{
 "cells": [
  {
   "cell_type": "code",
   "execution_count": 1,
   "metadata": {},
   "outputs": [],
   "source": [
    "import sys, os\n",
    "sys.path.insert(0, os.path.dirname(os.path.abspath('..')))"
   ]
  },
  {
   "cell_type": "code",
   "execution_count": 2,
   "metadata": {},
   "outputs": [],
   "source": [
    "import yaml\n",
    "import pickle\n",
    "import matplotlib.pyplot as plt\n",
    "import numpy as np"
   ]
  },
  {
   "cell_type": "code",
   "execution_count": 3,
   "metadata": {},
   "outputs": [],
   "source": [
    "from stochastic_predictors.modules.experiment.metrics import *\n",
    "from stochastic_predictors.modules.experiment.attacks import *\n",
    "from stochastic_predictors.modules.model.cnn import StochasticCNN"
   ]
  },
  {
   "cell_type": "code",
   "execution_count": 4,
   "metadata": {},
   "outputs": [],
   "source": [
    "experiment_n = \"04\""
   ]
  },
  {
   "cell_type": "code",
   "execution_count": 5,
   "metadata": {},
   "outputs": [
    {
     "name": "stdout",
     "output_type": "stream",
     "text": [
      "Using device: cuda\n"
     ]
    },
    {
     "name": "stderr",
     "output_type": "stream",
     "text": [
      "100%|██████████| 18/18 [00:00<00:00, 3772.23it/s]\n"
     ]
    },
    {
     "data": {
      "text/plain": [
       "<All keys matched successfully>"
      ]
     },
     "execution_count": 5,
     "metadata": {},
     "output_type": "execute_result"
    }
   ],
   "source": [
    "dev = torch.device(\"cuda\") if torch.cuda.is_available() else torch.device('cpu')\n",
    "print(\"Using device:\", dev)\n",
    "\n",
    "# load experiment configuration file\n",
    "with open(\"../experiments/exp-s08/config-s08.yaml\") as config:\n",
    "    params = dict(yaml.load(config, Loader=yaml.FullLoader))\n",
    "\n",
    "# load model\n",
    "net = StochasticCNN(params[\"model\"], params[\"n_for_features\"], params[\"batch_norm\"])\n",
    "net.load_state_dict(torch.load(\"../experiments/exp-s08/stoch-08-statedict.pt\"))"
   ]
  },
  {
   "cell_type": "code",
   "execution_count": null,
   "metadata": {},
   "outputs": [],
   "source": []
  },
  {
   "cell_type": "code",
   "execution_count": 6,
   "metadata": {},
   "outputs": [
    {
     "ename": "NameError",
     "evalue": "name 'test_loader' is not defined",
     "output_type": "error",
     "traceback": [
      "\u001b[0;31m---------------------------------------------------------------------------\u001b[0m",
      "\u001b[0;31mNameError\u001b[0m                                 Traceback (most recent call last)",
      "\u001b[0;32m<ipython-input-6-4ce46229e5f9>\u001b[0m in \u001b[0;36m<module>\u001b[0;34m\u001b[0m\n\u001b[0;32m----> 1\u001b[0;31m \u001b[0;32mfor\u001b[0m \u001b[0mdata\u001b[0m\u001b[0;34m,\u001b[0m \u001b[0mtarget\u001b[0m \u001b[0;32min\u001b[0m \u001b[0mtest_loader\u001b[0m\u001b[0;34m:\u001b[0m\u001b[0;34m\u001b[0m\u001b[0;34m\u001b[0m\u001b[0m\n\u001b[0m\u001b[1;32m      2\u001b[0m     \u001b[0mfeatures\u001b[0m \u001b[0;34m=\u001b[0m \u001b[0mnet\u001b[0m\u001b[0;34m.\u001b[0m\u001b[0mfeatures\u001b[0m\u001b[0;34m(\u001b[0m\u001b[0mdata\u001b[0m\u001b[0;34m)\u001b[0m\u001b[0;34m\u001b[0m\u001b[0;34m\u001b[0m\u001b[0m\n",
      "\u001b[0;31mNameError\u001b[0m: name 'test_loader' is not defined"
     ]
    }
   ],
   "source": [
    "for data, target in test_loader:\n",
    "    features = net.features(data)"
   ]
  },
  {
   "cell_type": "code",
   "execution_count": 53,
   "metadata": {},
   "outputs": [
    {
     "data": {
      "text/plain": [
       "torch.Size([10])"
      ]
     },
     "execution_count": 53,
     "metadata": {},
     "output_type": "execute_result"
    }
   ],
   "source": [
    "s = features.std(dim=0)\n",
    "s.size()"
   ]
  },
  {
   "cell_type": "code",
   "execution_count": 54,
   "metadata": {},
   "outputs": [
    {
     "data": {
      "image/png": "[encoded data removed]",
      "text/plain": [
       "<Figure size 640x480 with 1 Axes>"
      ]
     },
     "metadata": {},
     "output_type": "display_data"
    }
   ],
   "source": [
    "plt.hist(s.detach().numpy())\n",
    "plt.show()"
   ]
  },
  {
   "cell_type": "code",
   "execution_count": 7,
   "metadata": {},
   "outputs": [],
   "source": [
    "from torchvision.datasets import FashionMNIST\n",
    "import torchvision.transforms as transforms\n",
    "from torch.utils.data import DataLoader"
   ]
  },
  {
   "cell_type": "code",
   "execution_count": 26,
   "metadata": {},
   "outputs": [],
   "source": [
    "from torchattacks import FGSM, BIM"
   ]
  },
  {
   "cell_type": "code",
   "execution_count": 10,
   "metadata": {},
   "outputs": [],
   "source": [
    "import torch.nn as nn"
   ]
  },
  {
   "cell_type": "code",
   "execution_count": 36,
   "metadata": {},
   "outputs": [
    {
     "data": {
      "text/plain": [
       "StochasticCNN(\n",
       "  (0): Conv2d(1, 6, kernel_size=(3, 3), stride=(1, 1))\n",
       "  (1): BatchNorm2d(6, eps=1e-05, momentum=0.1, affine=True, track_running_stats=True)\n",
       "  (2): ReLU()\n",
       "  (3): Conv2d(6, 12, kernel_size=(3, 3), stride=(1, 1))\n",
       "  (4): BatchNorm2d(12, eps=1e-05, momentum=0.1, affine=True, track_running_stats=True)\n",
       "  (5): ReLU()\n",
       "  (6): Conv2d(12, 12, kernel_size=(2, 2), stride=(2, 2))\n",
       "  (7): BatchNorm2d(12, eps=1e-05, momentum=0.1, affine=True, track_running_stats=True)\n",
       "  (8): Conv2d(12, 24, kernel_size=(3, 3), stride=(1, 1))\n",
       "  (9): BatchNorm2d(24, eps=1e-05, momentum=0.1, affine=True, track_running_stats=True)\n",
       "  (10): ReLU()\n",
       "  (11): Conv2d(24, 48, kernel_size=(3, 3), stride=(1, 1))\n",
       "  (12): BatchNorm2d(48, eps=1e-05, momentum=0.1, affine=True, track_running_stats=True)\n",
       "  (13): ReLU()\n",
       "  (14): Conv2d(48, 48, kernel_size=(2, 2), stride=(2, 2))\n",
       "  (15): BatchNorm2d(48, eps=1e-05, momentum=0.1, affine=True, track_running_stats=True)\n",
       "  (16): Conv2d(48, 96, kernel_size=(3, 3), stride=(1, 1))\n",
       "  (17): BatchNorm2d(96, eps=1e-05, momentum=0.1, affine=True, track_running_stats=True)\n",
       "  (18): ReLU()\n",
       "  (19): Conv2d(96, 96, kernel_size=(2, 2), stride=(2, 2))\n",
       "  (20): BatchNorm2d(96, eps=1e-05, momentum=0.1, affine=True, track_running_stats=True)\n",
       "  (21): Conv2d(96, 50, kernel_size=(1, 1), stride=(1, 1))\n",
       "  (22): BatchNorm2d(50, eps=1e-05, momentum=0.1, affine=True, track_running_stats=True)\n",
       "  (23): ReLU()\n",
       "  (24): Conv2d(50, 10, kernel_size=(1, 1), stride=(1, 1))\n",
       "  (25): BatchNorm2d(10, eps=1e-05, momentum=0.1, affine=True, track_running_stats=True)\n",
       "  (26): ReLU()\n",
       "  (27): Flatten(start_dim=1, end_dim=-1)\n",
       ")"
      ]
     },
     "execution_count": 36,
     "metadata": {},
     "output_type": "execute_result"
    }
   ],
   "source": [
    "net.cpu()"
   ]
  },
  {
   "cell_type": "code",
   "execution_count": 34,
   "metadata": {},
   "outputs": [
    {
     "name": "stdout",
     "output_type": "stream",
     "text": [
      "1e-05 tensor(0.9005)\n",
      "5e-05 tensor(0.9005)\n",
      "0.0001 tensor(0.9005)\n",
      "0.0005 tensor(0.9005)\n",
      "0.001 tensor(0.9005)\n",
      "0.005 tensor(0.8844)\n",
      "0.01 tensor(0.8585)\n",
      "0.05 tensor(0.7107)\n",
      "0.1 tensor(0.5965)\n"
     ]
    }
   ],
   "source": [
    "for e in [0.00001, 0.00005, 0.0001, 0.0005, 0.001, 0.005, 0.01, 0.05, 0.1]:\n",
    "    atk = BIM(net, eps=e)\n",
    "    for data, target in test_loader:\n",
    "        y = softmax(net.forward(atk(data, target)))\n",
    "        pred = torch.argmax(y, dim=1)\n",
    "        acc = (pred == target).sum() / target.size(0)\n",
    "    print(e, acc)"
   ]
  },
  {
   "cell_type": "code",
   "execution_count": 25,
   "metadata": {},
   "outputs": [
    {
     "name": "stdout",
     "output_type": "stream",
     "text": [
      "1e-05 tensor(0.2618)\n",
      "5e-05 tensor(0.2612)\n",
      "0.0001 tensor(0.2599)\n",
      "0.0005 tensor(0.2590)\n",
      "0.001 tensor(0.2543)\n",
      "0.005 tensor(0.2399)\n",
      "0.01 tensor(0.2181)\n",
      "0.05 tensor(0.1039)\n",
      "0.1 tensor(0.0579)\n"
     ]
    }
   ],
   "source": [
    "for e in [0.00001, 0.00005, 0.0001, 0.0005, 0.001, 0.005, 0.01, 0.05, 0.1]:\n",
    "    atk = FGSM(net, eps=e)\n",
    "    for data, target in test_loader:\n",
    "        y = softmax(net.forward(atk(data, target)))\n",
    "        pred = torch.argmax(y, dim=1)\n",
    "        acc = (pred == target).sum() / target.size(0)\n",
    "    print(e, acc)"
   ]
  },
  {
   "cell_type": "code",
   "execution_count": 21,
   "metadata": {},
   "outputs": [
    {
     "name": "stdout",
     "output_type": "stream",
     "text": [
      "0.001 tensor(0.1000)\n",
      "0.005 tensor(0.0999)\n",
      "0.01 tensor(0.1000)\n",
      "0.02 tensor(0.1000)\n",
      "0.05 tensor(0.1000)\n",
      "0.1 tensor(0.0999)\n",
      "0.2 tensor(0.1010)\n",
      "0.5 tensor(0.1097)\n"
     ]
    }
   ],
   "source": [
    "for p in [0.001, 0.005, 0.01, 0.02, 0.05, 0.1, 0.2, 0.5]:\n",
    "    d = nn.Dropout(p=p)\n",
    "    for data, target in test_loader:\n",
    "        y = softmax(net.forward(d(data)))\n",
    "        pred = torch.argmax(y, dim=1)\n",
    "        acc = (pred == target).sum() / target.size(0)\n",
    "    print(p, acc)"
   ]
  },
  {
   "cell_type": "code",
   "execution_count": null,
   "metadata": {},
   "outputs": [],
   "source": []
  },
  {
   "cell_type": "markdown",
   "metadata": {},
   "source": [
    "## Baseline model"
   ]
  },
  {
   "cell_type": "code",
   "execution_count": 12,
   "metadata": {},
   "outputs": [],
   "source": [
    "test_data = FashionMNIST(\"../data\", train=False, transform=transforms.ToTensor())\n",
    "test_loader = DataLoader(test_data, batch_size=10000, shuffle=True)"
   ]
  },
  {
   "cell_type": "code",
   "execution_count": null,
   "metadata": {},
   "outputs": [],
   "source": []
  },
  {
   "cell_type": "code",
   "execution_count": 17,
   "metadata": {},
   "outputs": [
    {
     "data": {
      "text/plain": [
       "StochasticCNN(\n",
       "  (0): StochasticAdditiveConv2d(1, 6, kernel_size=(3, 3), stride=(1, 1))\n",
       "  (1): ReLU()\n",
       "  (2): StochasticAdditiveConv2d(6, 12, kernel_size=(3, 3), stride=(1, 1))\n",
       "  (3): ReLU()\n",
       "  (4): StochasticAdditiveConv2d(12, 12, kernel_size=(2, 2), stride=(2, 2))\n",
       "  (5): StochasticAdditiveConv2d(12, 24, kernel_size=(3, 3), stride=(1, 1))\n",
       "  (6): ReLU()\n",
       "  (7): StochasticAdditiveConv2d(24, 48, kernel_size=(3, 3), stride=(1, 1))\n",
       "  (8): ReLU()\n",
       "  (9): StochasticAdditiveConv2d(48, 48, kernel_size=(2, 2), stride=(2, 2))\n",
       "  (10): StochasticAdditiveConv2d(48, 96, kernel_size=(3, 3), stride=(1, 1))\n",
       "  (11): ReLU()\n",
       "  (12): StochasticAdditiveConv2d(96, 96, kernel_size=(2, 2), stride=(2, 2))\n",
       "  (13): StochasticAdditiveConv2d(96, 50, kernel_size=(1, 1), stride=(1, 1))\n",
       "  (14): ReLU()\n",
       "  (15): StochasticAdditiveConv2d(50, 10, kernel_size=(1, 1), stride=(1, 1))\n",
       "  (16): ReLU()\n",
       "  (17): Flatten(start_dim=1, end_dim=-1)\n",
       ")"
      ]
     },
     "execution_count": 17,
     "metadata": {},
     "output_type": "execute_result"
    }
   ],
   "source": [
    "net.cpu()"
   ]
  },
  {
   "cell_type": "code",
   "execution_count": 13,
   "metadata": {},
   "outputs": [],
   "source": [
    "softmax = nn.Softmax(dim=1)"
   ]
  },
  {
   "cell_type": "code",
   "execution_count": 90,
   "metadata": {},
   "outputs": [],
   "source": [
    "for data, target in test_loader:\n",
    "    y = softmax(net.forward(data))\n",
    "    pred = torch.argmax(y, dim=1)\n",
    "    y_pred, _ = torch.max(y, dim=1)\n",
    "    y_corr, _ = torch.max(y[target == pred], dim=1)\n",
    "    y_wrong, _ = torch.max(y[target != pred][:, pred], dim=1)"
   ]
  },
  {
   "cell_type": "code",
   "execution_count": 91,
   "metadata": {},
   "outputs": [],
   "source": [
    "y = y_pred.detach().cpu()\n",
    "y_corr = y_corr.detach().cpu()\n",
    "y_wrong = y_wrong.detach().cpu()"
   ]
  },
  {
   "cell_type": "code",
   "execution_count": 92,
   "metadata": {},
   "outputs": [],
   "source": [
    "y_corr = torch.round(y_corr * 10).numpy()"
   ]
  },
  {
   "cell_type": "code",
   "execution_count": 93,
   "metadata": {},
   "outputs": [],
   "source": [
    "y_wrong = torch.round(y_wrong * 10).numpy()"
   ]
  },
  {
   "cell_type": "code",
   "execution_count": 94,
   "metadata": {},
   "outputs": [
    {
     "data": {
      "text/plain": [
       "array([ 3.,  4.,  5.,  6.,  7.,  8.,  9., 10.], dtype=float32)"
      ]
     },
     "execution_count": 94,
     "metadata": {},
     "output_type": "execute_result"
    }
   ],
   "source": [
    "np.unique(y_corr)"
   ]
  },
  {
   "cell_type": "code",
   "execution_count": 95,
   "metadata": {},
   "outputs": [
    {
     "data": {
      "image/png": "[encoded data removed]",
      "text/plain": [
       "<Figure size 640x480 with 1 Axes>"
      ]
     },
     "metadata": {},
     "output_type": "display_data"
    }
   ],
   "source": [
    "plt.hist([y_corr, y_wrong], bins=11, range=(0, 10), density=True, color=[\"green\", \"red\"])\n",
    "plt.xticks([0, 1, 2, 3, 4, 5, 6, 7, 8, 9, 10],\n",
    "           labels=['0', '.1', '.2', '.3', '.4', '.5', '.6', '.7', '.8', '.9', '1'])\n",
    "plt.yticks([])\n",
    "plt.show()"
   ]
  },
  {
   "cell_type": "code",
   "execution_count": 21,
   "metadata": {},
   "outputs": [],
   "source": [
    "y_corr = torch.round(y_c * 10).numpy()"
   ]
  },
  {
   "cell_type": "code",
   "execution_count": 22,
   "metadata": {},
   "outputs": [
    {
     "data": {
      "text/plain": [
       "(array([ 0.,  1.,  2.,  3.,  4.,  5.,  6.,  7.,  8.,  9., 10.],\n",
       "       dtype=float32),\n",
       " array([47986318,   849477,   559582,   403264,   357984,   327716,\n",
       "          308656,   432315,   467470,   981647, 47325571]))"
      ]
     },
     "execution_count": 22,
     "metadata": {},
     "output_type": "execute_result"
    }
   ],
   "source": [
    "np.unique(y, return_counts=True)"
   ]
  },
  {
   "cell_type": "code",
   "execution_count": 31,
   "metadata": {},
   "outputs": [],
   "source": [
    "y_wrong = torch.round(y_worng * 10).flatten().numpy()"
   ]
  },
  {
   "cell_type": "code",
   "execution_count": 32,
   "metadata": {},
   "outputs": [
    {
     "data": {
      "image/png": "[encoded data removed]",
      "text/plain": [
       "<Figure size 640x480 with 1 Axes>"
      ]
     },
     "metadata": {},
     "output_type": "display_data"
    }
   ],
   "source": [
    "plt.hist(y_wrong, density=True)\n",
    "plt.show()"
   ]
  },
  {
   "cell_type": "code",
   "execution_count": null,
   "metadata": {},
   "outputs": [],
   "source": [
    "y_wrong = "
   ]
  },
  {
   "cell_type": "code",
   "execution_count": 60,
   "metadata": {},
   "outputs": [
    {
     "data": {
      "text/plain": [
       "torch.Size([10000, 50])"
      ]
     },
     "execution_count": 60,
     "metadata": {},
     "output_type": "execute_result"
    }
   ],
   "source": [
    "features.size()"
   ]
  },
  {
   "cell_type": "code",
   "execution_count": null,
   "metadata": {},
   "outputs": [],
   "source": [
    "plt.hist(features.detach().numpy(), bins=50)\n",
    "plt.show()"
   ]
  },
  {
   "cell_type": "code",
   "execution_count": 68,
   "metadata": {},
   "outputs": [
    {
     "data": {
      "image/png": "[encoded data removed]",
      "text/plain": [
       "<Figure size 640x480 with 1 Axes>"
      ]
     },
     "metadata": {},
     "output_type": "display_data"
    }
   ],
   "source": [
    "plt.hist(features.detach().numpy(), bins=50)\n",
    "plt.show()"
   ]
  },
  {
   "cell_type": "code",
   "execution_count": 38,
   "metadata": {},
   "outputs": [],
   "source": [
    "atk = FGSM(net, eps=0.001)"
   ]
  },
  {
   "cell_type": "code",
   "execution_count": 39,
   "metadata": {},
   "outputs": [
    {
     "name": "stdout",
     "output_type": "stream",
     "text": [
      "tensor(0.2312)\n"
     ]
    }
   ],
   "source": [
    "softmax = nn.Softmax(dim=1)\n",
    "correct, total = 0, 0\n",
    "for data, target in test_loader:\n",
    "    data = atk(data, target).to(dev)\n",
    "    out = softmax(net.forward(data))\n",
    "    _, predicted = torch.max(out.data, 1)\n",
    "\n",
    "    total += target.size(0)\n",
    "    correct += (predicted.detach().cpu() == target).sum()\n",
    "print(correct / total)"
   ]
  },
  {
   "cell_type": "code",
   "execution_count": 16,
   "metadata": {},
   "outputs": [
    {
     "ename": "TypeError",
     "evalue": "forward() missing 1 required positional argument: 'labels'",
     "output_type": "error",
     "traceback": [
      "\u001b[0;31m---------------------------------------------------------------------------\u001b[0m",
      "\u001b[0;31mTypeError\u001b[0m                                 Traceback (most recent call last)",
      "\u001b[0;32m<ipython-input-16-4f0749d57b57>\u001b[0m in \u001b[0;36m<module>\u001b[0;34m\u001b[0m\n\u001b[0;32m----> 1\u001b[0;31m \u001b[0macc\u001b[0m \u001b[0;34m=\u001b[0m \u001b[0mattack\u001b[0m\u001b[0;34m(\u001b[0m\u001b[0mnet\u001b[0m\u001b[0;34m,\u001b[0m \u001b[0mdev\u001b[0m\u001b[0;34m,\u001b[0m \u001b[0mtransforms\u001b[0m\u001b[0;34m.\u001b[0m\u001b[0mToTensor\u001b[0m\u001b[0;34m(\u001b[0m\u001b[0;34m)\u001b[0m\u001b[0;34m,\u001b[0m \u001b[0mFGSM\u001b[0m\u001b[0;34m(\u001b[0m\u001b[0mnet\u001b[0m\u001b[0;34m,\u001b[0m \u001b[0meps\u001b[0m\u001b[0;34m=\u001b[0m\u001b[0;36m0.007\u001b[0m\u001b[0;34m)\u001b[0m\u001b[0;34m)\u001b[0m\u001b[0;34m\u001b[0m\u001b[0;34m\u001b[0m\u001b[0m\n\u001b[0m",
      "\u001b[0;32m~/Documents/stochastic_predictors/modules/experiment/attacks.py\u001b[0m in \u001b[0;36mattack\u001b[0;34m(net, dev, ts, attack)\u001b[0m\n\u001b[1;32m     42\u001b[0m     \u001b[0;32mfor\u001b[0m \u001b[0mdata\u001b[0m\u001b[0;34m,\u001b[0m \u001b[0mtarget\u001b[0m \u001b[0;32min\u001b[0m \u001b[0mdata_loader\u001b[0m\u001b[0;34m:\u001b[0m\u001b[0;34m\u001b[0m\u001b[0;34m\u001b[0m\u001b[0m\n\u001b[1;32m     43\u001b[0m         \u001b[0;31m# if attack.get_mode() == \"default\":  # untargeted attack\u001b[0m\u001b[0;34m\u001b[0m\u001b[0;34m\u001b[0m\u001b[0;34m\u001b[0m\u001b[0m\n\u001b[0;32m---> 44\u001b[0;31m         \u001b[0;31m#     data = attack(data).to(dev)\u001b[0m\u001b[0;34m\u001b[0m\u001b[0;34m\u001b[0m\u001b[0;34m\u001b[0m\u001b[0m\n\u001b[0m\u001b[1;32m     45\u001b[0m         \u001b[0;31m# else:\u001b[0m\u001b[0;34m\u001b[0m\u001b[0;34m\u001b[0m\u001b[0;34m\u001b[0m\u001b[0m\n\u001b[1;32m     46\u001b[0m         \u001b[0mdata\u001b[0m \u001b[0;34m=\u001b[0m \u001b[0mattack\u001b[0m\u001b[0;34m(\u001b[0m\u001b[0mdata\u001b[0m\u001b[0;34m,\u001b[0m \u001b[0mtarget\u001b[0m\u001b[0;34m)\u001b[0m\u001b[0;34m.\u001b[0m\u001b[0mto\u001b[0m\u001b[0;34m(\u001b[0m\u001b[0mdev\u001b[0m\u001b[0;34m)\u001b[0m\u001b[0;34m\u001b[0m\u001b[0;34m\u001b[0m\u001b[0m\n",
      "\u001b[0;32m/usr/lib/python3.9/site-packages/torchattacks/attack.py\u001b[0m in \u001b[0;36m__call__\u001b[0;34m(self, *input, **kwargs)\u001b[0m\n\u001b[1;32m    321\u001b[0m             \u001b[0mself\u001b[0m\u001b[0;34m.\u001b[0m\u001b[0mmodel\u001b[0m\u001b[0;34m.\u001b[0m\u001b[0meval\u001b[0m\u001b[0;34m(\u001b[0m\u001b[0;34m)\u001b[0m\u001b[0;34m\u001b[0m\u001b[0;34m\u001b[0m\u001b[0m\n\u001b[1;32m    322\u001b[0m \u001b[0;34m\u001b[0m\u001b[0m\n\u001b[0;32m--> 323\u001b[0;31m         \u001b[0mimages\u001b[0m \u001b[0;34m=\u001b[0m \u001b[0mself\u001b[0m\u001b[0;34m.\u001b[0m\u001b[0mforward\u001b[0m\u001b[0;34m(\u001b[0m\u001b[0;34m*\u001b[0m\u001b[0minput\u001b[0m\u001b[0;34m,\u001b[0m \u001b[0;34m**\u001b[0m\u001b[0mkwargs\u001b[0m\u001b[0;34m)\u001b[0m\u001b[0;34m\u001b[0m\u001b[0;34m\u001b[0m\u001b[0m\n\u001b[0m\u001b[1;32m    324\u001b[0m \u001b[0;34m\u001b[0m\u001b[0m\n\u001b[1;32m    325\u001b[0m         \u001b[0;32mif\u001b[0m \u001b[0mgiven_training\u001b[0m\u001b[0;34m:\u001b[0m\u001b[0;34m\u001b[0m\u001b[0;34m\u001b[0m\u001b[0m\n",
      "\u001b[0;31mTypeError\u001b[0m: forward() missing 1 required positional argument: 'labels'"
     ]
    }
   ],
   "source": [
    "acc = attack(net, dev, transforms.ToTensor(), FGSM(net, eps=0.007))"
   ]
  },
  {
   "cell_type": "code",
   "execution_count": null,
   "metadata": {},
   "outputs": [],
   "source": [
    "print(\"Baseline model, robust accuracy on targeted attack:\", acc.data)"
   ]
  },
  {
   "cell_type": "code",
   "execution_count": null,
   "metadata": {},
   "outputs": [],
   "source": [
    "acc = attack(net, dev, transforms.ToTensor(), MissingFeaturesAttack(net, p=0.2))"
   ]
  },
  {
   "cell_type": "code",
   "execution_count": null,
   "metadata": {},
   "outputs": [],
   "source": [
    "print(\"Baseline model, robust accuracy on missimg features:\", acc.data)"
   ]
  },
  {
   "cell_type": "code",
   "execution_count": null,
   "metadata": {},
   "outputs": [],
   "source": []
  },
  {
   "cell_type": "code",
   "execution_count": null,
   "metadata": {},
   "outputs": [],
   "source": [
    "from sklearn.manifold import TSNE"
   ]
  },
  {
   "cell_type": "code",
   "execution_count": null,
   "metadata": {},
   "outputs": [],
   "source": [
    "test_loader = DataLoader(test_data, batch_size=5000)\n",
    "\n",
    "for i, (data, t_target) in enumerate(test_loader):\n",
    "    data = data.to(dev)\n",
    "    features = net.features(data)\n",
    "    \n",
    "features = features.cpu().detach().flatten(start_dim=1).numpy()\n",
    "\n",
    "tsne = TSNE(n_components=2, random_state=0)\n",
    "features_2d = tsne.fit_transform(features)"
   ]
  },
  {
   "cell_type": "code",
   "execution_count": null,
   "metadata": {},
   "outputs": [],
   "source": [
    "plt.clf()\n",
    "\n",
    "plt.figure(figsize=(10, 6))\n",
    "colors = ['r', 'g', 'b', 'c', 'm', 'y', 'k', 'yellow', 'orange', 'purple']\n",
    "\n",
    "for i in range(10):\n",
    "    idx = np.where(t_target == i)[0]\n",
    "    plt.scatter(features_2d[idx, 0], features_2d[idx, 1], color=colors[i], label=CLASSES[i])\n",
    "\n",
    "plt.xlabel(\"x [units]\")\n",
    "plt.ylabel(\"y [units]\")\n",
    "plt.title(\"tSNE plot of features extracted by model\")\n",
    "plt.legend()\n",
    "\n",
    "plt.show()"
   ]
  },
  {
   "cell_type": "code",
   "execution_count": null,
   "metadata": {},
   "outputs": [],
   "source": []
  },
  {
   "cell_type": "code",
   "execution_count": 10,
   "metadata": {},
   "outputs": [],
   "source": [
    "CLASSES = [\n",
    "    \"T-shirt/top\", \"Trousers\", \"Pullover\", \"Dress\", \"Coat\", \"Sandal\", \"Shirt\", \"Sneaker\", \"Bag\", \"Ankle boot\"\n",
    "]"
   ]
  },
  {
   "cell_type": "code",
   "execution_count": 11,
   "metadata": {},
   "outputs": [],
   "source": [
    "softmax = torch.nn.Softmax(dim=1)"
   ]
  },
  {
   "cell_type": "code",
   "execution_count": 13,
   "metadata": {},
   "outputs": [],
   "source": [
    "from torchattacks import FGSM, BIM"
   ]
  },
  {
   "cell_type": "code",
   "execution_count": 14,
   "metadata": {
    "scrolled": false
   },
   "outputs": [
    {
     "data": {
      "image/png": "[encoded data removed]",
      "text/plain": [
       "<Figure size 2000x200 with 10 Axes>"
      ]
     },
     "metadata": {},
     "output_type": "display_data"
    }
   ],
   "source": [
    "fig, ax = plt.subplots(1, 10, figsize=(20, 2))\n",
    "\n",
    "for i in range(10):\n",
    "    img, target = test_data[i]\n",
    "    y = softmax(net.forward(img.unsqueeze(0).to(dev))).detach().cpu()\n",
    "    pred = torch.argmax(y).item()\n",
    "    ax.flat[i].imshow(img.permute(1, 2, 0), cmap=\"gray\")\n",
    "#     ax.flat[i].set_title(f\"{CLASSES[pred]}: {y[:, pred].item():.2f}\")\n",
    "    ax.flat[i].axis(\"off\")\n",
    "plt.show()"
   ]
  },
  {
   "cell_type": "code",
   "execution_count": 15,
   "metadata": {},
   "outputs": [],
   "source": [
    "data = list()\n",
    "target = list()\n",
    "\n",
    "for i in range(10):\n",
    "    img, l = test_data[i]\n",
    "    data.append(img.unsqueeze(0))\n",
    "    target.append(l)\n",
    "    \n",
    "data = torch.cat(data, dim=0)\n",
    "target = torch.Tensor(target).long()"
   ]
  },
  {
   "cell_type": "code",
   "execution_count": 17,
   "metadata": {},
   "outputs": [],
   "source": [
    "atk = BIM(net, eps=0.05)\n",
    "# atk.set_mode_default()"
   ]
  },
  {
   "cell_type": "code",
   "execution_count": 18,
   "metadata": {},
   "outputs": [],
   "source": [
    "adv_data = atk(data, target)"
   ]
  },
  {
   "cell_type": "code",
   "execution_count": 19,
   "metadata": {},
   "outputs": [
    {
     "data": {
      "image/png": "[encoded data removed]",
      "text/plain": [
       "<Figure size 2000x200 with 10 Axes>"
      ]
     },
     "metadata": {},
     "output_type": "display_data"
    }
   ],
   "source": [
    "fig, ax = plt.subplots(1, 10, figsize=(20, 2))\n",
    "\n",
    "for i in range(10):\n",
    "    img = adv_data[i].detach().cpu()\n",
    "    y = softmax(net.forward(img.unsqueeze(0).to(dev))).detach().cpu()\n",
    "    pred = torch.argmax(y).item()\n",
    "    ax[i].imshow(img.permute(1, 2, 0), cmap=\"gray\")\n",
    "#     ax[i].set_title(f\"{CLASSES[pred]}: {y[:, pred].item():.2f}\")\n",
    "    ax[i].axis(\"off\")\n",
    "plt.show()"
   ]
  },
  {
   "cell_type": "code",
   "execution_count": 20,
   "metadata": {},
   "outputs": [],
   "source": [
    "diff = abs(data - adv_data.detach().cpu())"
   ]
  },
  {
   "cell_type": "code",
   "execution_count": 21,
   "metadata": {},
   "outputs": [
    {
     "data": {
      "image/png": "[encoded data removed]",
      "text/plain": [
       "<Figure size 2000x200 with 10 Axes>"
      ]
     },
     "metadata": {},
     "output_type": "display_data"
    }
   ],
   "source": [
    "fig, ax = plt.subplots(1, 10, figsize=(20, 2))\n",
    "\n",
    "for i in range(10):\n",
    "    ax[i].imshow(diff[i].permute(1, 2, 0), vmin=0, vmax=0.05, cmap=\"gray\")\n",
    "    ax[i].axis(\"off\")\n",
    "plt.show()"
   ]
  },
  {
   "cell_type": "code",
   "execution_count": null,
   "metadata": {},
   "outputs": [],
   "source": [
    "np.unique(diff.numpy())"
   ]
  },
  {
   "cell_type": "code",
   "execution_count": null,
   "metadata": {},
   "outputs": [],
   "source": [
    "atk = FGSM(net, eps=0.01)"
   ]
  },
  {
   "cell_type": "code",
   "execution_count": null,
   "metadata": {},
   "outputs": [],
   "source": [
    "adv_data = atk(data, target)"
   ]
  },
  {
   "cell_type": "code",
   "execution_count": null,
   "metadata": {},
   "outputs": [],
   "source": [
    "fig, ax = plt.subplots(1, 10, figsize=(20, 2))\n",
    "\n",
    "for i in range(10):\n",
    "    img = adv_data[i].detach().cpu()\n",
    "    y = softmax(net.forward(img.unsqueeze(0).to(dev))).detach().cpu()\n",
    "    pred = torch.argmax(y).item()\n",
    "    ax[i].imshow(img.permute(1, 2, 0), cmap=\"gray\")\n",
    "    ax[i].set_title(f\"{CLASSES[pred]}: {y[:, pred].item():.2f}\")\n",
    "    ax[i].axis(\"off\")\n",
    "plt.show()"
   ]
  },
  {
   "cell_type": "code",
   "execution_count": null,
   "metadata": {},
   "outputs": [],
   "source": [
    "attack = FGSM(net, eps=0.001)"
   ]
  },
  {
   "cell_type": "code",
   "execution_count": null,
   "metadata": {},
   "outputs": [],
   "source": [
    "attack.set_mode_default()"
   ]
  },
  {
   "cell_type": "code",
   "execution_count": 41,
   "metadata": {},
   "outputs": [
    {
     "data": {
      "text/plain": [
       "StochasticCNN(\n",
       "  (0): StochasticAdditiveConv2d(1, 6, kernel_size=(3, 3), stride=(1, 1))\n",
       "  (1): ReLU()\n",
       "  (2): StochasticAdditiveConv2d(6, 12, kernel_size=(3, 3), stride=(1, 1))\n",
       "  (3): ReLU()\n",
       "  (4): StochasticAdditiveConv2d(12, 12, kernel_size=(2, 2), stride=(2, 2))\n",
       "  (5): StochasticAdditiveConv2d(12, 24, kernel_size=(3, 3), stride=(1, 1))\n",
       "  (6): ReLU()\n",
       "  (7): StochasticAdditiveConv2d(24, 48, kernel_size=(3, 3), stride=(1, 1))\n",
       "  (8): ReLU()\n",
       "  (9): StochasticAdditiveConv2d(48, 48, kernel_size=(2, 2), stride=(2, 2))\n",
       "  (10): StochasticAdditiveConv2d(48, 96, kernel_size=(3, 3), stride=(1, 1))\n",
       "  (11): ReLU()\n",
       "  (12): StochasticAdditiveConv2d(96, 96, kernel_size=(2, 2), stride=(2, 2))\n",
       "  (13): StochasticAdditiveConv2d(96, 50, kernel_size=(1, 1), stride=(1, 1))\n",
       "  (14): ReLU()\n",
       "  (15): StochasticAdditiveConv2d(50, 10, kernel_size=(1, 1), stride=(1, 1))\n",
       "  (16): ReLU()\n",
       "  (17): Flatten(start_dim=1, end_dim=-1)\n",
       ")"
      ]
     },
     "execution_count": 41,
     "metadata": {},
     "output_type": "execute_result"
    }
   ],
   "source": [
    "net"
   ]
  },
  {
   "cell_type": "code",
   "execution_count": 48,
   "metadata": {},
   "outputs": [
    {
     "name": "stdout",
     "output_type": "stream",
     "text": [
      "tensor(0.2351)\n"
     ]
    }
   ],
   "source": [
    "softmax = nn.Softmax(dim=1)\n",
    "correct, total = 0, 0\n",
    "\n",
    "for data, target in test_loader:\n",
    "#     data = atk(data, target).to(dev)\n",
    "    y = net.forward(data.to(dev))\n",
    "    pred = torch.argmax(y, dim=1)\n",
    "\n",
    "    total += target.size(0)\n",
    "    correct += (pred.detach().cpu() == target).sum()\n",
    "print(correct / total)"
   ]
  },
  {
   "cell_type": "code",
   "execution_count": null,
   "metadata": {},
   "outputs": [],
   "source": []
  }
 ],
 "metadata": {
  "kernelspec": {
   "display_name": "Python 3",
   "language": "python",
   "name": "python3"
  },
  "language_info": {
   "codemirror_mode": {
    "name": "ipython",
    "version": 3
   },
   "file_extension": ".py",
   "mimetype": "text/x-python",
   "name": "python",
   "nbconvert_exporter": "python",
   "pygments_lexer": "ipython3",
   "version": "3.9.6"
  }
 },
 "nbformat": 4,
 "nbformat_minor": 4
}
